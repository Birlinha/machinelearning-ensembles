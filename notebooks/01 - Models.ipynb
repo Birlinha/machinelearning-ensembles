{
 "cells": [
  {
   "cell_type": "code",
   "execution_count": 5,
   "id": "45e308d3",
   "metadata": {},
   "outputs": [],
   "source": [
    "# import libraries\n",
    "import pandas as pd\n",
    "import numpy as np\n",
    "import seaborn as sns\n",
    "import matplotlib.pyplot as plt"
   ]
  },
  {
   "cell_type": "code",
   "execution_count": 6,
   "id": "1c88f286",
   "metadata": {},
   "outputs": [],
   "source": [
    "# import data\n",
    "\n",
    "orders = pd.read_csv(\"../data/processed/customer_orders.csv\")"
   ]
  },
  {
   "cell_type": "code",
   "execution_count": null,
   "id": "622fe36d",
   "metadata": {},
   "outputs": [],
   "source": []
  },
  {
   "cell_type": "markdown",
   "id": "d2eff745",
   "metadata": {},
   "source": [
    "# Regressão Logística"
   ]
  },
  {
   "cell_type": "code",
   "execution_count": 7,
   "id": "0e764a65",
   "metadata": {},
   "outputs": [
    {
     "name": "stderr",
     "output_type": "stream",
     "text": [
      "C:\\ProgramData\\Anaconda3\\lib\\site-packages\\sklearn\\utils\\validation.py:63: DataConversionWarning: A column-vector y was passed when a 1d array was expected. Please change the shape of y to (n_samples, ), for example using ravel().\n",
      "  return f(*args, **kwargs)\n"
     ]
    },
    {
     "data": {
      "image/png": "[encoded data removed]",
      "text/plain": [
       "<Figure size 432x288 with 1 Axes>"
      ]
     },
     "metadata": {
      "needs_background": "light"
     },
     "output_type": "display_data"
    }
   ],
   "source": [
    "# sklearn imports for machine learning models\n",
    "\n",
    "from sklearn.linear_model import LogisticRegression\n",
    "from scipy.special import expit\n",
    "\n",
    "# Criando nossas arrays Unidimensionais (1D) para serem utilizadas pelo sklearn na produção de nossa regressão logística\n",
    "\n",
    "X = np.array(np.rint(orders[\"price\"])).reshape(-1, 1)\n",
    "y = np.array(orders[\"has_delivery_days\"]).reshape(-1, 1)\n",
    "\n",
    "m = int(X.min())\n",
    "mx = int(X.max())\n",
    "me = int(X.mean())\n",
    "\n",
    "X_test = np.linspace(m, mx, me)\n",
    "\n",
    "# ml\n",
    "# Fit the classifier\n",
    "clf = LogisticRegression(C=1e5)\n",
    "clf.fit(X, y)\n",
    "\n",
    "# and plot the result\n",
    "plt.clf()\n",
    "plt.scatter(X.ravel(), y, color=\"black\")\n",
    "\n",
    "loss = expit(X_test * clf.coef_ + clf.intercept_).ravel()\n",
    "plt.plot(X_test, loss, color=\"red\", linewidth=3)\n",
    "\n",
    "plt.show()"
   ]
  },
  {
   "cell_type": "code",
   "execution_count": null,
   "id": "d6c98934",
   "metadata": {},
   "outputs": [],
   "source": []
  },
  {
   "cell_type": "code",
   "execution_count": null,
   "id": "18b9a878",
   "metadata": {},
   "outputs": [],
   "source": []
  },
  {
   "cell_type": "markdown",
   "id": "5afb3e5b",
   "metadata": {},
   "source": [
    "# Árvore de Decisão"
   ]
  },
  {
   "cell_type": "code",
   "execution_count": null,
   "id": "88260495",
   "metadata": {},
   "outputs": [],
   "source": []
  },
  {
   "cell_type": "code",
   "execution_count": 8,
   "id": "f87c5ba3",
   "metadata": {},
   "outputs": [],
   "source": [
    "X = np.array(np.rint(orders[\"price\"])).reshape(-1, 1)\n",
    "Y = np.array(orders[\"has_delivery_days\"]).reshape(-1, 1)\n",
    "\n",
    "m = int(X.min())\n",
    "mx = int(X.max())\n",
    "me = int(X.mean())\n",
    "\n",
    "X_test = np.linspace(m, mx, me)"
   ]
  },
  {
   "cell_type": "code",
   "execution_count": null,
   "id": "b644f45a",
   "metadata": {},
   "outputs": [],
   "source": []
  },
  {
   "cell_type": "code",
   "execution_count": 9,
   "id": "4ec632e6",
   "metadata": {},
   "outputs": [],
   "source": [
    "from sklearn import tree\n",
    "from sklearn.tree import export_text\n",
    "\n",
    "clf = tree.DecisionTreeClassifier()\n",
    "clf = clf.fit(X, Y)"
   ]
  },
  {
   "cell_type": "code",
   "execution_count": 30,
   "id": "b1a62486",
   "metadata": {},
   "outputs": [],
   "source": [
    "text = export_text(clf, feature_names=[\"price\"])"
   ]
  },
  {
   "cell_type": "code",
   "execution_count": 13,
   "id": "4c4fa7a4",
   "metadata": {},
   "outputs": [
    {
     "data": {
      "text/plain": [
       "[Text(167.4, 181.2, 'X[0] <= 5.5\\ngini = 0.498\\nsamples = 33607\\nvalue = [15744, 17863]'),\n",
       " Text(83.7, 108.72, 'X[0] <= 4.5\\ngini = 0.252\\nsamples = 3768\\nvalue = [3212, 556]'),\n",
       " Text(41.85, 36.23999999999998, '\\n  (...)  \\n'),\n",
       " Text(125.55000000000001, 36.23999999999998, '\\n  (...)  \\n'),\n",
       " Text(251.10000000000002, 108.72, 'X[0] <= 203.5\\ngini = 0.487\\nsamples = 29839\\nvalue = [12532, 17307]'),\n",
       " Text(209.25, 36.23999999999998, '\\n  (...)  \\n'),\n",
       " Text(292.95, 36.23999999999998, '\\n  (...)  \\n')]"
      ]
     },
     "execution_count": 13,
     "metadata": {},
     "output_type": "execute_result"
    },
    {
     "data": {
      "image/png": "[encoded data removed]",
      "text/plain": [
       "<Figure size 432x288 with 1 Axes>"
      ]
     },
     "metadata": {
      "needs_background": "light"
     },
     "output_type": "display_data"
    }
   ],
   "source": [
    "tree.plot_tree(clf,max_depth=1)"
   ]
  },
  {
   "cell_type": "code",
   "execution_count": null,
   "id": "dc1c1853",
   "metadata": {},
   "outputs": [],
   "source": []
  },
  {
   "cell_type": "code",
   "execution_count": null,
   "id": "b3aa3c95",
   "metadata": {},
   "outputs": [],
   "source": []
  },
  {
   "cell_type": "code",
   "execution_count": 11,
   "id": "d564383b",
   "metadata": {},
   "outputs": [
    {
     "data": {
      "text/plain": [
       "array([0], dtype=int64)"
      ]
     },
     "execution_count": 11,
     "metadata": {},
     "output_type": "execute_result"
    }
   ],
   "source": [
    "clf.predict([[-600]])"
   ]
  },
  {
   "cell_type": "code",
   "execution_count": 10,
   "id": "7dbc918c",
   "metadata": {},
   "outputs": [
    {
     "data": {
      "text/plain": [
       "array([1], dtype=int64)"
      ]
     },
     "execution_count": 10,
     "metadata": {},
     "output_type": "execute_result"
    }
   ],
   "source": [
    "clf.predict([[600]])"
   ]
  },
  {
   "cell_type": "code",
   "execution_count": null,
   "id": "c3b00e58",
   "metadata": {},
   "outputs": [],
   "source": []
  },
  {
   "cell_type": "code",
   "execution_count": null,
   "id": "95302ad4",
   "metadata": {},
   "outputs": [],
   "source": []
  },
  {
   "cell_type": "code",
   "execution_count": null,
   "id": "b5b37eec",
   "metadata": {},
   "outputs": [],
   "source": []
  },
  {
   "cell_type": "code",
   "execution_count": null,
   "id": "310d4757",
   "metadata": {},
   "outputs": [],
   "source": []
  },
  {
   "cell_type": "code",
   "execution_count": null,
   "id": "3b0f95bd",
   "metadata": {},
   "outputs": [],
   "source": []
  },
  {
   "cell_type": "code",
   "execution_count": null,
   "id": "70dcde84",
   "metadata": {},
   "outputs": [],
   "source": []
  }
 ],
 "metadata": {
  "kernelspec": {
   "display_name": "Python 3",
   "language": "python",
   "name": "python3"
  },
  "language_info": {
   "codemirror_mode": {
    "name": "ipython",
    "version": 3
   },
   "file_extension": ".py",
   "mimetype": "text/x-python",
   "name": "python",
   "nbconvert_exporter": "python",
   "pygments_lexer": "ipython3",
   "version": "3.8.8"
  }
 },
 "nbformat": 4,
 "nbformat_minor": 5
}
