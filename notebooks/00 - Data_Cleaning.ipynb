{
 "cells": [
  {
   "cell_type": "code",
   "execution_count": 5,
   "id": "a0740aa0",
   "metadata": {},
   "outputs": [],
   "source": [
    "''' Bibliotecas que serão utilizadas para a análise e limpeza dos dados '''\n",
    "%matplotlib inline\n",
    "import matplotlib.pyplot as plt\n",
    "import seaborn as sns\n",
    "import numpy as np\n",
    "import pandas as pd"
   ]
  },
  {
   "cell_type": "code",
   "execution_count": 6,
   "id": "ae986175",
   "metadata": {},
   "outputs": [],
   "source": [
    "\n",
    "## Loading our data from the data folders\n",
    "\n",
    "orders = pd.read_csv('../data/raw/orders.csv')\n",
    "products = pd.read_csv('../data/raw/product.csv')\n",
    "client_ch = pd.read_csv('../data/raw/client.challenge.csv')\n",
    "client_tr = pd.read_csv('../data/raw/client.train.csv')\n",
    "client_te = pd.read_csv('../data/raw/client.test.csv')"
   ]
  },
  {
   "cell_type": "code",
   "execution_count": null,
   "id": "acd42382",
   "metadata": {},
   "outputs": [],
   "source": []
  },
  {
   "cell_type": "code",
   "execution_count": 10,
   "id": "dae09df0",
   "metadata": {},
   "outputs": [
    {
     "data": {
      "text/html": [
       "<div>\n",
       "<style scoped>\n",
       "    .dataframe tbody tr th:only-of-type {\n",
       "        vertical-align: middle;\n",
       "    }\n",
       "\n",
       "    .dataframe tbody tr th {\n",
       "        vertical-align: top;\n",
       "    }\n",
       "\n",
       "    .dataframe thead th {\n",
       "        text-align: right;\n",
       "    }\n",
       "</style>\n",
       "<table border=\"1\" class=\"dataframe\">\n",
       "  <thead>\n",
       "    <tr style=\"text-align: right;\">\n",
       "      <th></th>\n",
       "      <th>client_id</th>\n",
       "      <th>birthdate</th>\n",
       "      <th>state</th>\n",
       "      <th>gender</th>\n",
       "    </tr>\n",
       "  </thead>\n",
       "  <tbody>\n",
       "    <tr>\n",
       "      <th>0</th>\n",
       "      <td>cx12525</td>\n",
       "      <td>1932-04-19</td>\n",
       "      <td>st15</td>\n",
       "      <td>cg1</td>\n",
       "    </tr>\n",
       "    <tr>\n",
       "      <th>1</th>\n",
       "      <td>cx32280</td>\n",
       "      <td>1983-03-01</td>\n",
       "      <td>st15</td>\n",
       "      <td>cg1</td>\n",
       "    </tr>\n",
       "  </tbody>\n",
       "</table>\n",
       "</div>"
      ],
      "text/plain": [
       "  client_id   birthdate state gender\n",
       "0   cx12525  1932-04-19  st15    cg1\n",
       "1   cx32280  1983-03-01  st15    cg1"
      ]
     },
     "execution_count": 10,
     "metadata": {},
     "output_type": "execute_result"
    }
   ],
   "source": [
    "client_ch.head(2)"
   ]
  },
  {
   "cell_type": "code",
   "execution_count": 11,
   "id": "babb8c63",
   "metadata": {},
   "outputs": [
    {
     "data": {
      "text/html": [
       "<div>\n",
       "<style scoped>\n",
       "    .dataframe tbody tr th:only-of-type {\n",
       "        vertical-align: middle;\n",
       "    }\n",
       "\n",
       "    .dataframe tbody tr th {\n",
       "        vertical-align: top;\n",
       "    }\n",
       "\n",
       "    .dataframe thead th {\n",
       "        text-align: right;\n",
       "    }\n",
       "</style>\n",
       "<table border=\"1\" class=\"dataframe\">\n",
       "  <thead>\n",
       "    <tr style=\"text-align: right;\">\n",
       "      <th></th>\n",
       "      <th>client_id</th>\n",
       "      <th>birthdate</th>\n",
       "      <th>state</th>\n",
       "      <th>gender</th>\n",
       "      <th>is_churn</th>\n",
       "    </tr>\n",
       "  </thead>\n",
       "  <tbody>\n",
       "    <tr>\n",
       "      <th>0</th>\n",
       "      <td>cx05072</td>\n",
       "      <td>1972-03-22</td>\n",
       "      <td>st25</td>\n",
       "      <td>cg2</td>\n",
       "      <td>False</td>\n",
       "    </tr>\n",
       "    <tr>\n",
       "      <th>1</th>\n",
       "      <td>cx03836</td>\n",
       "      <td>1966-08-14</td>\n",
       "      <td>st15</td>\n",
       "      <td>cg1</td>\n",
       "      <td>False</td>\n",
       "    </tr>\n",
       "  </tbody>\n",
       "</table>\n",
       "</div>"
      ],
      "text/plain": [
       "  client_id   birthdate state gender  is_churn\n",
       "0   cx05072  1972-03-22  st25    cg2     False\n",
       "1   cx03836  1966-08-14  st15    cg1     False"
      ]
     },
     "execution_count": 11,
     "metadata": {},
     "output_type": "execute_result"
    }
   ],
   "source": [
    "client_tr.head(2)"
   ]
  },
  {
   "cell_type": "code",
   "execution_count": 12,
   "id": "facca4bf",
   "metadata": {},
   "outputs": [
    {
     "data": {
      "text/html": [
       "<div>\n",
       "<style scoped>\n",
       "    .dataframe tbody tr th:only-of-type {\n",
       "        vertical-align: middle;\n",
       "    }\n",
       "\n",
       "    .dataframe tbody tr th {\n",
       "        vertical-align: top;\n",
       "    }\n",
       "\n",
       "    .dataframe thead th {\n",
       "        text-align: right;\n",
       "    }\n",
       "</style>\n",
       "<table border=\"1\" class=\"dataframe\">\n",
       "  <thead>\n",
       "    <tr style=\"text-align: right;\">\n",
       "      <th></th>\n",
       "      <th>client_id</th>\n",
       "      <th>birthdate</th>\n",
       "      <th>state</th>\n",
       "      <th>gender</th>\n",
       "      <th>is_churn</th>\n",
       "    </tr>\n",
       "  </thead>\n",
       "  <tbody>\n",
       "    <tr>\n",
       "      <th>0</th>\n",
       "      <td>cx06840</td>\n",
       "      <td>1982-12-03</td>\n",
       "      <td>st15</td>\n",
       "      <td>cg1</td>\n",
       "      <td>False</td>\n",
       "    </tr>\n",
       "    <tr>\n",
       "      <th>1</th>\n",
       "      <td>cx01931</td>\n",
       "      <td>1979-05-09</td>\n",
       "      <td>st15</td>\n",
       "      <td>cg1</td>\n",
       "      <td>False</td>\n",
       "    </tr>\n",
       "  </tbody>\n",
       "</table>\n",
       "</div>"
      ],
      "text/plain": [
       "  client_id   birthdate state gender  is_churn\n",
       "0   cx06840  1982-12-03  st15    cg1     False\n",
       "1   cx01931  1979-05-09  st15    cg1     False"
      ]
     },
     "execution_count": 12,
     "metadata": {},
     "output_type": "execute_result"
    }
   ],
   "source": [
    "client_te.head(2)"
   ]
  },
  {
   "cell_type": "code",
   "execution_count": null,
   "id": "aa7710c7",
   "metadata": {},
   "outputs": [],
   "source": []
  },
  {
   "cell_type": "code",
   "execution_count": null,
   "id": "b6e7abeb",
   "metadata": {},
   "outputs": [],
   "source": []
  },
  {
   "cell_type": "code",
   "execution_count": null,
   "id": "6bbfe026",
   "metadata": {},
   "outputs": [],
   "source": []
  },
  {
   "cell_type": "code",
   "execution_count": null,
   "id": "8a1ba59b",
   "metadata": {},
   "outputs": [],
   "source": []
  },
  {
   "cell_type": "code",
   "execution_count": null,
   "id": "0af1b3d4",
   "metadata": {},
   "outputs": [],
   "source": []
  },
  {
   "cell_type": "markdown",
   "id": "c3ebf25c",
   "metadata": {},
   "source": [
    "# Info\n",
    "📋 Tabelas - orders, product\n",
    "\n",
    "🔑 Chaves em comum -  product_id\n",
    "\n",
    "🎯 Variável target/interesse - is_churn inside client_tr & client_te"
   ]
  },
  {
   "cell_type": "code",
   "execution_count": 7,
   "id": "67d30e95",
   "metadata": {},
   "outputs": [
    {
     "data": {
      "text/html": [
       "<div>\n",
       "<style scoped>\n",
       "    .dataframe tbody tr th:only-of-type {\n",
       "        vertical-align: middle;\n",
       "    }\n",
       "\n",
       "    .dataframe tbody tr th {\n",
       "        vertical-align: top;\n",
       "    }\n",
       "\n",
       "    .dataframe thead th {\n",
       "        text-align: right;\n",
       "    }\n",
       "</style>\n",
       "<table border=\"1\" class=\"dataframe\">\n",
       "  <thead>\n",
       "    <tr style=\"text-align: right;\">\n",
       "      <th></th>\n",
       "      <th>order_id</th>\n",
       "      <th>client_id</th>\n",
       "      <th>product_id</th>\n",
       "      <th>datetime</th>\n",
       "      <th>units</th>\n",
       "      <th>price</th>\n",
       "      <th>payment_method</th>\n",
       "      <th>installments</th>\n",
       "      <th>delivery_days</th>\n",
       "      <th>delivery_state</th>\n",
       "      <th>device</th>\n",
       "      <th>source</th>\n",
       "    </tr>\n",
       "  </thead>\n",
       "  <tbody>\n",
       "    <tr>\n",
       "      <th>0</th>\n",
       "      <td>ox008433</td>\n",
       "      <td>cx05072</td>\n",
       "      <td>px04611</td>\n",
       "      <td>2019-10-07 15:20:00</td>\n",
       "      <td>1.0</td>\n",
       "      <td>49.9</td>\n",
       "      <td>pm05</td>\n",
       "      <td>NaN</td>\n",
       "      <td>NaN</td>\n",
       "      <td>st07</td>\n",
       "      <td>dv9</td>\n",
       "      <td>sc08</td>\n",
       "    </tr>\n",
       "    <tr>\n",
       "      <th>1</th>\n",
       "      <td>ox070389</td>\n",
       "      <td>cx05072</td>\n",
       "      <td>px12305</td>\n",
       "      <td>2019-10-11 17:42:00</td>\n",
       "      <td>1.0</td>\n",
       "      <td>69.9</td>\n",
       "      <td>pm05</td>\n",
       "      <td>NaN</td>\n",
       "      <td>NaN</td>\n",
       "      <td>st07</td>\n",
       "      <td>dv9</td>\n",
       "      <td>sc08</td>\n",
       "    </tr>\n",
       "    <tr>\n",
       "      <th>2</th>\n",
       "      <td>ox061137</td>\n",
       "      <td>cx06840</td>\n",
       "      <td>px07033</td>\n",
       "      <td>2019-01-19 13:09:00</td>\n",
       "      <td>1.0</td>\n",
       "      <td>35.9</td>\n",
       "      <td>pm05</td>\n",
       "      <td>NaN</td>\n",
       "      <td>NaN</td>\n",
       "      <td>st07</td>\n",
       "      <td>dv9</td>\n",
       "      <td>sc08</td>\n",
       "    </tr>\n",
       "    <tr>\n",
       "      <th>3</th>\n",
       "      <td>ox061137</td>\n",
       "      <td>cx06840</td>\n",
       "      <td>px05992</td>\n",
       "      <td>2019-01-19 13:09:00</td>\n",
       "      <td>3.0</td>\n",
       "      <td>35.9</td>\n",
       "      <td>pm05</td>\n",
       "      <td>NaN</td>\n",
       "      <td>NaN</td>\n",
       "      <td>st07</td>\n",
       "      <td>dv9</td>\n",
       "      <td>sc08</td>\n",
       "    </tr>\n",
       "    <tr>\n",
       "      <th>4</th>\n",
       "      <td>ox038612</td>\n",
       "      <td>cx06840</td>\n",
       "      <td>px10040</td>\n",
       "      <td>2019-04-18 14:36:00</td>\n",
       "      <td>1.0</td>\n",
       "      <td>39.0</td>\n",
       "      <td>pm05</td>\n",
       "      <td>NaN</td>\n",
       "      <td>NaN</td>\n",
       "      <td>st07</td>\n",
       "      <td>dv9</td>\n",
       "      <td>sc08</td>\n",
       "    </tr>\n",
       "  </tbody>\n",
       "</table>\n",
       "</div>"
      ],
      "text/plain": [
       "   order_id client_id product_id             datetime  units  price  \\\n",
       "0  ox008433   cx05072    px04611  2019-10-07 15:20:00    1.0   49.9   \n",
       "1  ox070389   cx05072    px12305  2019-10-11 17:42:00    1.0   69.9   \n",
       "2  ox061137   cx06840    px07033  2019-01-19 13:09:00    1.0   35.9   \n",
       "3  ox061137   cx06840    px05992  2019-01-19 13:09:00    3.0   35.9   \n",
       "4  ox038612   cx06840    px10040  2019-04-18 14:36:00    1.0   39.0   \n",
       "\n",
       "  payment_method  installments  delivery_days delivery_state device source  \n",
       "0           pm05           NaN            NaN           st07    dv9   sc08  \n",
       "1           pm05           NaN            NaN           st07    dv9   sc08  \n",
       "2           pm05           NaN            NaN           st07    dv9   sc08  \n",
       "3           pm05           NaN            NaN           st07    dv9   sc08  \n",
       "4           pm05           NaN            NaN           st07    dv9   sc08  "
      ]
     },
     "execution_count": 7,
     "metadata": {},
     "output_type": "execute_result"
    }
   ],
   "source": [
    "orders.head()"
   ]
  },
  {
   "cell_type": "code",
   "execution_count": 9,
   "id": "696355b0",
   "metadata": {},
   "outputs": [
    {
     "data": {
      "text/html": [
       "<div>\n",
       "<style scoped>\n",
       "    .dataframe tbody tr th:only-of-type {\n",
       "        vertical-align: middle;\n",
       "    }\n",
       "\n",
       "    .dataframe tbody tr th {\n",
       "        vertical-align: top;\n",
       "    }\n",
       "\n",
       "    .dataframe thead th {\n",
       "        text-align: right;\n",
       "    }\n",
       "</style>\n",
       "<table border=\"1\" class=\"dataframe\">\n",
       "  <thead>\n",
       "    <tr style=\"text-align: right;\">\n",
       "      <th></th>\n",
       "      <th>product_id</th>\n",
       "      <th>category_lv0</th>\n",
       "      <th>category_lv1</th>\n",
       "      <th>category_lv2</th>\n",
       "      <th>category_lv3</th>\n",
       "      <th>category_lv4</th>\n",
       "    </tr>\n",
       "  </thead>\n",
       "  <tbody>\n",
       "    <tr>\n",
       "      <th>0</th>\n",
       "      <td>px01237</td>\n",
       "      <td>mk38</td>\n",
       "      <td>mk38:072</td>\n",
       "      <td>mk38:072:149</td>\n",
       "      <td>mk38:072:149:218</td>\n",
       "      <td>mk38:072:149:218:04846</td>\n",
       "    </tr>\n",
       "    <tr>\n",
       "      <th>1</th>\n",
       "      <td>px11510</td>\n",
       "      <td>mk38</td>\n",
       "      <td>mk38:072</td>\n",
       "      <td>mk38:072:149</td>\n",
       "      <td>mk38:072:149:218</td>\n",
       "      <td>mk38:072:149:218:01337</td>\n",
       "    </tr>\n",
       "    <tr>\n",
       "      <th>2</th>\n",
       "      <td>px03782</td>\n",
       "      <td>mk38</td>\n",
       "      <td>mk38:072</td>\n",
       "      <td>mk38:072:019</td>\n",
       "      <td>mk38:072:019:066</td>\n",
       "      <td>mk38:072:019:066:02321</td>\n",
       "    </tr>\n",
       "    <tr>\n",
       "      <th>3</th>\n",
       "      <td>px04092</td>\n",
       "      <td>mk38</td>\n",
       "      <td>mk38:072</td>\n",
       "      <td>mk38:072:019</td>\n",
       "      <td>mk38:072:019:054</td>\n",
       "      <td>mk38:072:019:054:06035</td>\n",
       "    </tr>\n",
       "    <tr>\n",
       "      <th>4</th>\n",
       "      <td>px07429</td>\n",
       "      <td>mk38</td>\n",
       "      <td>mk38:072</td>\n",
       "      <td>mk38:072:078</td>\n",
       "      <td>mk38:072:078:182</td>\n",
       "      <td>mk38:072:078:182:07218</td>\n",
       "    </tr>\n",
       "  </tbody>\n",
       "</table>\n",
       "</div>"
      ],
      "text/plain": [
       "  product_id category_lv0 category_lv1  category_lv2      category_lv3  \\\n",
       "0    px01237         mk38     mk38:072  mk38:072:149  mk38:072:149:218   \n",
       "1    px11510         mk38     mk38:072  mk38:072:149  mk38:072:149:218   \n",
       "2    px03782         mk38     mk38:072  mk38:072:019  mk38:072:019:066   \n",
       "3    px04092         mk38     mk38:072  mk38:072:019  mk38:072:019:054   \n",
       "4    px07429         mk38     mk38:072  mk38:072:078  mk38:072:078:182   \n",
       "\n",
       "             category_lv4  \n",
       "0  mk38:072:149:218:04846  \n",
       "1  mk38:072:149:218:01337  \n",
       "2  mk38:072:019:066:02321  \n",
       "3  mk38:072:019:054:06035  \n",
       "4  mk38:072:078:182:07218  "
      ]
     },
     "execution_count": 9,
     "metadata": {},
     "output_type": "execute_result"
    }
   ],
   "source": [
    "products.head()"
   ]
  },
  {
   "cell_type": "code",
   "execution_count": null,
   "id": "383bf0ae",
   "metadata": {},
   "outputs": [],
   "source": []
  },
  {
   "cell_type": "markdown",
   "id": "118d57ca",
   "metadata": {},
   "source": [
    "### Correlação\n",
    "\n",
    "Uma das ferramentas mais importantes na análise de dados é a Correlação\n",
    "\n",
    "![Correlação](imgs/correlation.png)\n",
    "\n",
    "Analisando como as variáveis estão distribuídas dentro de um plano cartesianos quando \"batidas\" umas com as outras nos mostra o quanto a presença de uma variável explica outra variável\n",
    "\n",
    "Saber o coeficiente de correlação linear pode nos ajudar a prever valores futuros\n",
    "\n",
    "[COEFICIENTE DE CORRELAÇÃO LINEAR - MATEMATICA RAPIDOLA](https://www.youtube.com/watch?v=ayAxTRN4aVg)"
   ]
  },
  {
   "cell_type": "code",
   "execution_count": 16,
   "id": "a12cfda6",
   "metadata": {},
   "outputs": [
    {
     "data": {
      "text/plain": [
       "<AxesSubplot:>"
      ]
     },
     "execution_count": 16,
     "metadata": {},
     "output_type": "execute_result"
    },
    {
     "data": {
      "image/png": "[encoded data removed]",
      "text/plain": [
       "<Figure size 432x288 with 2 Axes>"
      ]
     },
     "metadata": {
      "needs_background": "light"
     },
     "output_type": "display_data"
    }
   ],
   "source": [
    "sns.heatmap(orders.corr(),cmap=\"Blues\", annot=True)"
   ]
  },
  {
   "cell_type": "code",
   "execution_count": 17,
   "id": "9e6bc726",
   "metadata": {},
   "outputs": [
    {
     "data": {
      "text/plain": [
       "<AxesSubplot:xlabel='price', ylabel='installments'>"
      ]
     },
     "execution_count": 17,
     "metadata": {},
     "output_type": "execute_result"
    },
    {
     "data": {
      "image/png": "[encoded data removed]",
      "text/plain": [
       "<Figure size 432x288 with 1 Axes>"
      ]
     },
     "metadata": {
      "needs_background": "light"
     },
     "output_type": "display_data"
    }
   ],
   "source": [
    "sns.scatterplot(data=orders,\n",
    "                x=\"price\",\n",
    "                y=\"installments\")"
   ]
  },
  {
   "cell_type": "code",
   "execution_count": 19,
   "id": "aaa08db3",
   "metadata": {},
   "outputs": [
    {
     "data": {
      "text/plain": [
       "<AxesSubplot:xlabel='price', ylabel='units'>"
      ]
     },
     "execution_count": 19,
     "metadata": {},
     "output_type": "execute_result"
    },
    {
     "data": {
      "image/png": "[encoded data removed]",
      "text/plain": [
       "<Figure size 432x288 with 1 Axes>"
      ]
     },
     "metadata": {
      "needs_background": "light"
     },
     "output_type": "display_data"
    }
   ],
   "source": [
    "sns.regplot(data=orders,\n",
    "                x=\"price\",\n",
    "                y=\"units\")"
   ]
  },
  {
   "cell_type": "code",
   "execution_count": 20,
   "id": "b28beb7c",
   "metadata": {},
   "outputs": [
    {
     "data": {
      "text/plain": [
       "<seaborn.axisgrid.JointGrid at 0x23d67415d00>"
      ]
     },
     "execution_count": 20,
     "metadata": {},
     "output_type": "execute_result"
    },
    {
     "data": {
      "image/png": "[encoded data removed]",
      "text/plain": [
       "<Figure size 432x432 with 3 Axes>"
      ]
     },
     "metadata": {
      "needs_background": "light"
     },
     "output_type": "display_data"
    }
   ],
   "source": [
    "sns.jointplot(data=orders,\n",
    "              x=\"price\",\n",
    "              y=\"installments\",\n",
    "              kind=\"reg\")"
   ]
  },
  {
   "cell_type": "markdown",
   "id": "a2f8fa2e",
   "metadata": {},
   "source": [
    "# Missing Values\n",
    "\n",
    "Here, we will use the power of Missingno to find missing information inside our data\n",
    "This will help us understand our dataset and begin the Data Cleaning process"
   ]
  },
  {
   "cell_type": "code",
   "execution_count": 23,
   "id": "1d98b588",
   "metadata": {},
   "outputs": [],
   "source": [
    "#!pip install missingno\n",
    "import missingno as msno"
   ]
  },
  {
   "cell_type": "code",
   "execution_count": 24,
   "id": "29089ad7",
   "metadata": {},
   "outputs": [
    {
     "name": "stdout",
     "output_type": "stream",
     "text": [
      "Index(['order_id', 'client_id', 'product_id', 'datetime', 'units', 'price',\n",
      "       'payment_method', 'installments', 'delivery_days', 'delivery_state',\n",
      "       'device', 'source'],\n",
      "      dtype='object')\n"
     ]
    },
    {
     "data": {
      "text/plain": [
       "<AxesSubplot:>"
      ]
     },
     "execution_count": 24,
     "metadata": {},
     "output_type": "execute_result"
    },
    {
     "data": {
      "image/png": "[encoded data removed]",
      "text/plain": [
       "<Figure size 1800x720 with 2 Axes>"
      ]
     },
     "metadata": {
      "needs_background": "light"
     },
     "output_type": "display_data"
    }
   ],
   "source": [
    "print(orders.keys())\n",
    "msno.matrix(orders)"
   ]
  },
  {
   "cell_type": "code",
   "execution_count": 26,
   "id": "af9e7271",
   "metadata": {},
   "outputs": [
    {
     "data": {
      "text/html": [
       "<div>\n",
       "<style scoped>\n",
       "    .dataframe tbody tr th:only-of-type {\n",
       "        vertical-align: middle;\n",
       "    }\n",
       "\n",
       "    .dataframe tbody tr th {\n",
       "        vertical-align: top;\n",
       "    }\n",
       "\n",
       "    .dataframe thead th {\n",
       "        text-align: right;\n",
       "    }\n",
       "</style>\n",
       "<table border=\"1\" class=\"dataframe\">\n",
       "  <thead>\n",
       "    <tr style=\"text-align: right;\">\n",
       "      <th></th>\n",
       "      <th>order_id</th>\n",
       "      <th>client_id</th>\n",
       "      <th>product_id</th>\n",
       "      <th>datetime</th>\n",
       "      <th>units</th>\n",
       "      <th>price</th>\n",
       "      <th>payment_method</th>\n",
       "      <th>installments</th>\n",
       "      <th>delivery_days</th>\n",
       "      <th>delivery_state</th>\n",
       "      <th>device</th>\n",
       "      <th>source</th>\n",
       "    </tr>\n",
       "  </thead>\n",
       "  <tbody>\n",
       "    <tr>\n",
       "      <th>0</th>\n",
       "      <td>ox008433</td>\n",
       "      <td>cx05072</td>\n",
       "      <td>px04611</td>\n",
       "      <td>2019-10-07 15:20:00</td>\n",
       "      <td>1.0</td>\n",
       "      <td>49.9</td>\n",
       "      <td>pm05</td>\n",
       "      <td>NaN</td>\n",
       "      <td>NaN</td>\n",
       "      <td>st07</td>\n",
       "      <td>dv9</td>\n",
       "      <td>sc08</td>\n",
       "    </tr>\n",
       "    <tr>\n",
       "      <th>1</th>\n",
       "      <td>ox070389</td>\n",
       "      <td>cx05072</td>\n",
       "      <td>px12305</td>\n",
       "      <td>2019-10-11 17:42:00</td>\n",
       "      <td>1.0</td>\n",
       "      <td>69.9</td>\n",
       "      <td>pm05</td>\n",
       "      <td>NaN</td>\n",
       "      <td>NaN</td>\n",
       "      <td>st07</td>\n",
       "      <td>dv9</td>\n",
       "      <td>sc08</td>\n",
       "    </tr>\n",
       "    <tr>\n",
       "      <th>2</th>\n",
       "      <td>ox061137</td>\n",
       "      <td>cx06840</td>\n",
       "      <td>px07033</td>\n",
       "      <td>2019-01-19 13:09:00</td>\n",
       "      <td>1.0</td>\n",
       "      <td>35.9</td>\n",
       "      <td>pm05</td>\n",
       "      <td>NaN</td>\n",
       "      <td>NaN</td>\n",
       "      <td>st07</td>\n",
       "      <td>dv9</td>\n",
       "      <td>sc08</td>\n",
       "    </tr>\n",
       "    <tr>\n",
       "      <th>3</th>\n",
       "      <td>ox061137</td>\n",
       "      <td>cx06840</td>\n",
       "      <td>px05992</td>\n",
       "      <td>2019-01-19 13:09:00</td>\n",
       "      <td>3.0</td>\n",
       "      <td>35.9</td>\n",
       "      <td>pm05</td>\n",
       "      <td>NaN</td>\n",
       "      <td>NaN</td>\n",
       "      <td>st07</td>\n",
       "      <td>dv9</td>\n",
       "      <td>sc08</td>\n",
       "    </tr>\n",
       "    <tr>\n",
       "      <th>4</th>\n",
       "      <td>ox038612</td>\n",
       "      <td>cx06840</td>\n",
       "      <td>px10040</td>\n",
       "      <td>2019-04-18 14:36:00</td>\n",
       "      <td>1.0</td>\n",
       "      <td>39.0</td>\n",
       "      <td>pm05</td>\n",
       "      <td>NaN</td>\n",
       "      <td>NaN</td>\n",
       "      <td>st07</td>\n",
       "      <td>dv9</td>\n",
       "      <td>sc08</td>\n",
       "    </tr>\n",
       "  </tbody>\n",
       "</table>\n",
       "</div>"
      ],
      "text/plain": [
       "   order_id client_id product_id             datetime  units  price  \\\n",
       "0  ox008433   cx05072    px04611  2019-10-07 15:20:00    1.0   49.9   \n",
       "1  ox070389   cx05072    px12305  2019-10-11 17:42:00    1.0   69.9   \n",
       "2  ox061137   cx06840    px07033  2019-01-19 13:09:00    1.0   35.9   \n",
       "3  ox061137   cx06840    px05992  2019-01-19 13:09:00    3.0   35.9   \n",
       "4  ox038612   cx06840    px10040  2019-04-18 14:36:00    1.0   39.0   \n",
       "\n",
       "  payment_method  installments  delivery_days delivery_state device source  \n",
       "0           pm05           NaN            NaN           st07    dv9   sc08  \n",
       "1           pm05           NaN            NaN           st07    dv9   sc08  \n",
       "2           pm05           NaN            NaN           st07    dv9   sc08  \n",
       "3           pm05           NaN            NaN           st07    dv9   sc08  \n",
       "4           pm05           NaN            NaN           st07    dv9   sc08  "
      ]
     },
     "execution_count": 26,
     "metadata": {},
     "output_type": "execute_result"
    }
   ],
   "source": [
    "orders[orders[\"installments\"].isna()].head()"
   ]
  },
  {
   "cell_type": "code",
   "execution_count": 27,
   "id": "a7955d97",
   "metadata": {},
   "outputs": [
    {
     "data": {
      "text/html": [
       "<div>\n",
       "<style scoped>\n",
       "    .dataframe tbody tr th:only-of-type {\n",
       "        vertical-align: middle;\n",
       "    }\n",
       "\n",
       "    .dataframe tbody tr th {\n",
       "        vertical-align: top;\n",
       "    }\n",
       "\n",
       "    .dataframe thead th {\n",
       "        text-align: right;\n",
       "    }\n",
       "</style>\n",
       "<table border=\"1\" class=\"dataframe\">\n",
       "  <thead>\n",
       "    <tr style=\"text-align: right;\">\n",
       "      <th></th>\n",
       "      <th>order_id</th>\n",
       "      <th>client_id</th>\n",
       "      <th>product_id</th>\n",
       "      <th>datetime</th>\n",
       "      <th>units</th>\n",
       "      <th>price</th>\n",
       "      <th>payment_method</th>\n",
       "      <th>installments</th>\n",
       "      <th>delivery_days</th>\n",
       "      <th>delivery_state</th>\n",
       "      <th>device</th>\n",
       "      <th>source</th>\n",
       "      <th>has_installments</th>\n",
       "    </tr>\n",
       "  </thead>\n",
       "  <tbody>\n",
       "    <tr>\n",
       "      <th>0</th>\n",
       "      <td>ox008433</td>\n",
       "      <td>cx05072</td>\n",
       "      <td>px04611</td>\n",
       "      <td>2019-10-07 15:20:00</td>\n",
       "      <td>1.0</td>\n",
       "      <td>49.9</td>\n",
       "      <td>pm05</td>\n",
       "      <td>NaN</td>\n",
       "      <td>NaN</td>\n",
       "      <td>st07</td>\n",
       "      <td>dv9</td>\n",
       "      <td>sc08</td>\n",
       "      <td>0</td>\n",
       "    </tr>\n",
       "    <tr>\n",
       "      <th>1</th>\n",
       "      <td>ox070389</td>\n",
       "      <td>cx05072</td>\n",
       "      <td>px12305</td>\n",
       "      <td>2019-10-11 17:42:00</td>\n",
       "      <td>1.0</td>\n",
       "      <td>69.9</td>\n",
       "      <td>pm05</td>\n",
       "      <td>NaN</td>\n",
       "      <td>NaN</td>\n",
       "      <td>st07</td>\n",
       "      <td>dv9</td>\n",
       "      <td>sc08</td>\n",
       "      <td>0</td>\n",
       "    </tr>\n",
       "    <tr>\n",
       "      <th>2</th>\n",
       "      <td>ox061137</td>\n",
       "      <td>cx06840</td>\n",
       "      <td>px07033</td>\n",
       "      <td>2019-01-19 13:09:00</td>\n",
       "      <td>1.0</td>\n",
       "      <td>35.9</td>\n",
       "      <td>pm05</td>\n",
       "      <td>NaN</td>\n",
       "      <td>NaN</td>\n",
       "      <td>st07</td>\n",
       "      <td>dv9</td>\n",
       "      <td>sc08</td>\n",
       "      <td>0</td>\n",
       "    </tr>\n",
       "    <tr>\n",
       "      <th>3</th>\n",
       "      <td>ox061137</td>\n",
       "      <td>cx06840</td>\n",
       "      <td>px05992</td>\n",
       "      <td>2019-01-19 13:09:00</td>\n",
       "      <td>3.0</td>\n",
       "      <td>35.9</td>\n",
       "      <td>pm05</td>\n",
       "      <td>NaN</td>\n",
       "      <td>NaN</td>\n",
       "      <td>st07</td>\n",
       "      <td>dv9</td>\n",
       "      <td>sc08</td>\n",
       "      <td>0</td>\n",
       "    </tr>\n",
       "    <tr>\n",
       "      <th>4</th>\n",
       "      <td>ox038612</td>\n",
       "      <td>cx06840</td>\n",
       "      <td>px10040</td>\n",
       "      <td>2019-04-18 14:36:00</td>\n",
       "      <td>1.0</td>\n",
       "      <td>39.0</td>\n",
       "      <td>pm05</td>\n",
       "      <td>NaN</td>\n",
       "      <td>NaN</td>\n",
       "      <td>st07</td>\n",
       "      <td>dv9</td>\n",
       "      <td>sc08</td>\n",
       "      <td>0</td>\n",
       "    </tr>\n",
       "  </tbody>\n",
       "</table>\n",
       "</div>"
      ],
      "text/plain": [
       "   order_id client_id product_id             datetime  units  price  \\\n",
       "0  ox008433   cx05072    px04611  2019-10-07 15:20:00    1.0   49.9   \n",
       "1  ox070389   cx05072    px12305  2019-10-11 17:42:00    1.0   69.9   \n",
       "2  ox061137   cx06840    px07033  2019-01-19 13:09:00    1.0   35.9   \n",
       "3  ox061137   cx06840    px05992  2019-01-19 13:09:00    3.0   35.9   \n",
       "4  ox038612   cx06840    px10040  2019-04-18 14:36:00    1.0   39.0   \n",
       "\n",
       "  payment_method  installments  delivery_days delivery_state device source  \\\n",
       "0           pm05           NaN            NaN           st07    dv9   sc08   \n",
       "1           pm05           NaN            NaN           st07    dv9   sc08   \n",
       "2           pm05           NaN            NaN           st07    dv9   sc08   \n",
       "3           pm05           NaN            NaN           st07    dv9   sc08   \n",
       "4           pm05           NaN            NaN           st07    dv9   sc08   \n",
       "\n",
       "   has_installments  \n",
       "0                 0  \n",
       "1                 0  \n",
       "2                 0  \n",
       "3                 0  \n",
       "4                 0  "
      ]
     },
     "execution_count": 27,
     "metadata": {},
     "output_type": "execute_result"
    }
   ],
   "source": [
    "orders['has_installments'] = np.where(orders[\"installments\"].isna() == False, 1, 0)\n",
    "orders.head()"
   ]
  },
  {
   "cell_type": "code",
   "execution_count": 28,
   "id": "657ec79a",
   "metadata": {},
   "outputs": [
    {
     "data": {
      "text/html": [
       "<div>\n",
       "<style scoped>\n",
       "    .dataframe tbody tr th:only-of-type {\n",
       "        vertical-align: middle;\n",
       "    }\n",
       "\n",
       "    .dataframe tbody tr th {\n",
       "        vertical-align: top;\n",
       "    }\n",
       "\n",
       "    .dataframe thead th {\n",
       "        text-align: right;\n",
       "    }\n",
       "</style>\n",
       "<table border=\"1\" class=\"dataframe\">\n",
       "  <thead>\n",
       "    <tr style=\"text-align: right;\">\n",
       "      <th></th>\n",
       "      <th>order_id</th>\n",
       "      <th>client_id</th>\n",
       "      <th>product_id</th>\n",
       "      <th>datetime</th>\n",
       "      <th>units</th>\n",
       "      <th>price</th>\n",
       "      <th>payment_method</th>\n",
       "      <th>installments</th>\n",
       "      <th>delivery_days</th>\n",
       "      <th>delivery_state</th>\n",
       "      <th>device</th>\n",
       "      <th>source</th>\n",
       "      <th>has_installments</th>\n",
       "    </tr>\n",
       "  </thead>\n",
       "  <tbody>\n",
       "    <tr>\n",
       "      <th>40</th>\n",
       "      <td>ox095115</td>\n",
       "      <td>cx06182</td>\n",
       "      <td>px07463</td>\n",
       "      <td>2019-09-18 10:27:00</td>\n",
       "      <td>1.0</td>\n",
       "      <td>799.20</td>\n",
       "      <td>pm14</td>\n",
       "      <td>10.0</td>\n",
       "      <td>1.0</td>\n",
       "      <td>st15</td>\n",
       "      <td>dv3</td>\n",
       "      <td>sc09</td>\n",
       "      <td>1</td>\n",
       "    </tr>\n",
       "    <tr>\n",
       "      <th>112</th>\n",
       "      <td>ox026209</td>\n",
       "      <td>cx19443</td>\n",
       "      <td>px00557</td>\n",
       "      <td>2019-09-03 19:19:00</td>\n",
       "      <td>1.0</td>\n",
       "      <td>189.05</td>\n",
       "      <td>pm02</td>\n",
       "      <td>1.0</td>\n",
       "      <td>7.0</td>\n",
       "      <td>st15</td>\n",
       "      <td>dv3</td>\n",
       "      <td>sc09</td>\n",
       "      <td>1</td>\n",
       "    </tr>\n",
       "    <tr>\n",
       "      <th>116</th>\n",
       "      <td>ox053945</td>\n",
       "      <td>cx01320</td>\n",
       "      <td>px09710</td>\n",
       "      <td>2019-08-15 13:56:00</td>\n",
       "      <td>1.0</td>\n",
       "      <td>349.90</td>\n",
       "      <td>pm09</td>\n",
       "      <td>4.0</td>\n",
       "      <td>0.0</td>\n",
       "      <td>st25</td>\n",
       "      <td>dv4</td>\n",
       "      <td>sc04</td>\n",
       "      <td>1</td>\n",
       "    </tr>\n",
       "    <tr>\n",
       "      <th>119</th>\n",
       "      <td>ox045760</td>\n",
       "      <td>cx01320</td>\n",
       "      <td>px09710</td>\n",
       "      <td>2019-08-15 14:30:00</td>\n",
       "      <td>1.0</td>\n",
       "      <td>332.41</td>\n",
       "      <td>pm04</td>\n",
       "      <td>1.0</td>\n",
       "      <td>0.0</td>\n",
       "      <td>st25</td>\n",
       "      <td>dv4</td>\n",
       "      <td>sc04</td>\n",
       "      <td>1</td>\n",
       "    </tr>\n",
       "    <tr>\n",
       "      <th>120</th>\n",
       "      <td>ox008514</td>\n",
       "      <td>cx01320</td>\n",
       "      <td>px01037</td>\n",
       "      <td>2019-10-04 21:44:00</td>\n",
       "      <td>1.0</td>\n",
       "      <td>37.00</td>\n",
       "      <td>pm04</td>\n",
       "      <td>1.0</td>\n",
       "      <td>2.0</td>\n",
       "      <td>st25</td>\n",
       "      <td>dv4</td>\n",
       "      <td>sc04</td>\n",
       "      <td>1</td>\n",
       "    </tr>\n",
       "  </tbody>\n",
       "</table>\n",
       "</div>"
      ],
      "text/plain": [
       "     order_id client_id product_id             datetime  units   price  \\\n",
       "40   ox095115   cx06182    px07463  2019-09-18 10:27:00    1.0  799.20   \n",
       "112  ox026209   cx19443    px00557  2019-09-03 19:19:00    1.0  189.05   \n",
       "116  ox053945   cx01320    px09710  2019-08-15 13:56:00    1.0  349.90   \n",
       "119  ox045760   cx01320    px09710  2019-08-15 14:30:00    1.0  332.41   \n",
       "120  ox008514   cx01320    px01037  2019-10-04 21:44:00    1.0   37.00   \n",
       "\n",
       "    payment_method  installments  delivery_days delivery_state device source  \\\n",
       "40            pm14          10.0            1.0           st15    dv3   sc09   \n",
       "112           pm02           1.0            7.0           st15    dv3   sc09   \n",
       "116           pm09           4.0            0.0           st25    dv4   sc04   \n",
       "119           pm04           1.0            0.0           st25    dv4   sc04   \n",
       "120           pm04           1.0            2.0           st25    dv4   sc04   \n",
       "\n",
       "     has_installments  \n",
       "40                  1  \n",
       "112                 1  \n",
       "116                 1  \n",
       "119                 1  \n",
       "120                 1  "
      ]
     },
     "execution_count": 28,
     "metadata": {},
     "output_type": "execute_result"
    }
   ],
   "source": [
    "orders[orders[\"has_installments\"] == True].head()"
   ]
  },
  {
   "cell_type": "code",
   "execution_count": 29,
   "id": "99be0e79",
   "metadata": {},
   "outputs": [
    {
     "data": {
      "text/plain": [
       "<AxesSubplot:>"
      ]
     },
     "execution_count": 29,
     "metadata": {},
     "output_type": "execute_result"
    },
    {
     "data": {
      "image/png": "[encoded data removed]",
      "text/plain": [
       "<Figure size 432x288 with 2 Axes>"
      ]
     },
     "metadata": {
      "needs_background": "light"
     },
     "output_type": "display_data"
    }
   ],
   "source": [
    "sns.heatmap(orders.corr(), cmap=\"Blues\", annot=True)"
   ]
  },
  {
   "cell_type": "code",
   "execution_count": 30,
   "id": "e8f650ae",
   "metadata": {},
   "outputs": [
    {
     "data": {
      "text/plain": [
       "<AxesSubplot:xlabel='units', ylabel='has_installments'>"
      ]
     },
     "execution_count": 30,
     "metadata": {},
     "output_type": "execute_result"
    },
    {
     "data": {
      "image/png": "[encoded data removed]",
      "text/plain": [
       "<Figure size 432x288 with 1 Axes>"
      ]
     },
     "metadata": {
      "needs_background": "light"
     },
     "output_type": "display_data"
    }
   ],
   "source": [
    "sns.regplot(data=orders,\n",
    "            x=\"units\",\n",
    "            y=\"has_installments\",\n",
    "            logistic=True)"
   ]
  },
  {
   "cell_type": "code",
   "execution_count": 31,
   "id": "13fe29ee",
   "metadata": {},
   "outputs": [
    {
     "data": {
      "text/plain": [
       "<AxesSubplot:xlabel='units', ylabel='installments'>"
      ]
     },
     "execution_count": 31,
     "metadata": {},
     "output_type": "execute_result"
    },
    {
     "data": {
      "image/png": "[encoded data removed]",
      "text/plain": [
       "<Figure size 432x288 with 1 Axes>"
      ]
     },
     "metadata": {
      "needs_background": "light"
     },
     "output_type": "display_data"
    }
   ],
   "source": [
    "sns.regplot(data=orders,\n",
    "            x=\"units\",\n",
    "            y=\"installments\")"
   ]
  },
  {
   "cell_type": "code",
   "execution_count": 32,
   "id": "0398619f",
   "metadata": {},
   "outputs": [],
   "source": [
    "orders['installments'] = np.where(orders[\"installments\"].isna() == True, 0, orders['installments'])"
   ]
  },
  {
   "cell_type": "code",
   "execution_count": 33,
   "id": "aa43178e",
   "metadata": {},
   "outputs": [
    {
     "data": {
      "text/html": [
       "<div>\n",
       "<style scoped>\n",
       "    .dataframe tbody tr th:only-of-type {\n",
       "        vertical-align: middle;\n",
       "    }\n",
       "\n",
       "    .dataframe tbody tr th {\n",
       "        vertical-align: top;\n",
       "    }\n",
       "\n",
       "    .dataframe thead th {\n",
       "        text-align: right;\n",
       "    }\n",
       "</style>\n",
       "<table border=\"1\" class=\"dataframe\">\n",
       "  <thead>\n",
       "    <tr style=\"text-align: right;\">\n",
       "      <th></th>\n",
       "      <th>order_id</th>\n",
       "      <th>client_id</th>\n",
       "      <th>product_id</th>\n",
       "      <th>datetime</th>\n",
       "      <th>units</th>\n",
       "      <th>price</th>\n",
       "      <th>payment_method</th>\n",
       "      <th>installments</th>\n",
       "      <th>delivery_days</th>\n",
       "      <th>delivery_state</th>\n",
       "      <th>device</th>\n",
       "      <th>source</th>\n",
       "      <th>has_installments</th>\n",
       "    </tr>\n",
       "  </thead>\n",
       "  <tbody>\n",
       "    <tr>\n",
       "      <th>0</th>\n",
       "      <td>ox008433</td>\n",
       "      <td>cx05072</td>\n",
       "      <td>px04611</td>\n",
       "      <td>2019-10-07 15:20:00</td>\n",
       "      <td>1.0</td>\n",
       "      <td>49.9</td>\n",
       "      <td>pm05</td>\n",
       "      <td>0.0</td>\n",
       "      <td>NaN</td>\n",
       "      <td>st07</td>\n",
       "      <td>dv9</td>\n",
       "      <td>sc08</td>\n",
       "      <td>1</td>\n",
       "    </tr>\n",
       "    <tr>\n",
       "      <th>1</th>\n",
       "      <td>ox070389</td>\n",
       "      <td>cx05072</td>\n",
       "      <td>px12305</td>\n",
       "      <td>2019-10-11 17:42:00</td>\n",
       "      <td>1.0</td>\n",
       "      <td>69.9</td>\n",
       "      <td>pm05</td>\n",
       "      <td>0.0</td>\n",
       "      <td>NaN</td>\n",
       "      <td>st07</td>\n",
       "      <td>dv9</td>\n",
       "      <td>sc08</td>\n",
       "      <td>1</td>\n",
       "    </tr>\n",
       "    <tr>\n",
       "      <th>2</th>\n",
       "      <td>ox061137</td>\n",
       "      <td>cx06840</td>\n",
       "      <td>px07033</td>\n",
       "      <td>2019-01-19 13:09:00</td>\n",
       "      <td>1.0</td>\n",
       "      <td>35.9</td>\n",
       "      <td>pm05</td>\n",
       "      <td>0.0</td>\n",
       "      <td>NaN</td>\n",
       "      <td>st07</td>\n",
       "      <td>dv9</td>\n",
       "      <td>sc08</td>\n",
       "      <td>1</td>\n",
       "    </tr>\n",
       "    <tr>\n",
       "      <th>3</th>\n",
       "      <td>ox061137</td>\n",
       "      <td>cx06840</td>\n",
       "      <td>px05992</td>\n",
       "      <td>2019-01-19 13:09:00</td>\n",
       "      <td>3.0</td>\n",
       "      <td>35.9</td>\n",
       "      <td>pm05</td>\n",
       "      <td>0.0</td>\n",
       "      <td>NaN</td>\n",
       "      <td>st07</td>\n",
       "      <td>dv9</td>\n",
       "      <td>sc08</td>\n",
       "      <td>1</td>\n",
       "    </tr>\n",
       "    <tr>\n",
       "      <th>4</th>\n",
       "      <td>ox038612</td>\n",
       "      <td>cx06840</td>\n",
       "      <td>px10040</td>\n",
       "      <td>2019-04-18 14:36:00</td>\n",
       "      <td>1.0</td>\n",
       "      <td>39.0</td>\n",
       "      <td>pm05</td>\n",
       "      <td>0.0</td>\n",
       "      <td>NaN</td>\n",
       "      <td>st07</td>\n",
       "      <td>dv9</td>\n",
       "      <td>sc08</td>\n",
       "      <td>1</td>\n",
       "    </tr>\n",
       "  </tbody>\n",
       "</table>\n",
       "</div>"
      ],
      "text/plain": [
       "   order_id client_id product_id             datetime  units  price  \\\n",
       "0  ox008433   cx05072    px04611  2019-10-07 15:20:00    1.0   49.9   \n",
       "1  ox070389   cx05072    px12305  2019-10-11 17:42:00    1.0   69.9   \n",
       "2  ox061137   cx06840    px07033  2019-01-19 13:09:00    1.0   35.9   \n",
       "3  ox061137   cx06840    px05992  2019-01-19 13:09:00    3.0   35.9   \n",
       "4  ox038612   cx06840    px10040  2019-04-18 14:36:00    1.0   39.0   \n",
       "\n",
       "  payment_method  installments  delivery_days delivery_state device source  \\\n",
       "0           pm05           0.0            NaN           st07    dv9   sc08   \n",
       "1           pm05           0.0            NaN           st07    dv9   sc08   \n",
       "2           pm05           0.0            NaN           st07    dv9   sc08   \n",
       "3           pm05           0.0            NaN           st07    dv9   sc08   \n",
       "4           pm05           0.0            NaN           st07    dv9   sc08   \n",
       "\n",
       "   has_installments  \n",
       "0                 1  \n",
       "1                 1  \n",
       "2                 1  \n",
       "3                 1  \n",
       "4                 1  "
      ]
     },
     "execution_count": 33,
     "metadata": {},
     "output_type": "execute_result"
    }
   ],
   "source": [
    "orders['has_installments'] = np.where(orders[\"installments\"].isna() == False, 1, 0)\n",
    "orders.head()"
   ]
  },
  {
   "cell_type": "code",
   "execution_count": 34,
   "id": "e817381e",
   "metadata": {},
   "outputs": [
    {
     "data": {
      "text/plain": [
       "<AxesSubplot:xlabel='units', ylabel='installments'>"
      ]
     },
     "execution_count": 34,
     "metadata": {},
     "output_type": "execute_result"
    },
    {
     "data": {
      "image/png": "[encoded data removed]",
      "text/plain": [
       "<Figure size 432x288 with 1 Axes>"
      ]
     },
     "metadata": {
      "needs_background": "light"
     },
     "output_type": "display_data"
    }
   ],
   "source": [
    "sns.regplot(data=orders,\n",
    "            x=\"units\",\n",
    "            y=\"installments\")"
   ]
  },
  {
   "cell_type": "code",
   "execution_count": 35,
   "id": "e3c74ccb",
   "metadata": {},
   "outputs": [
    {
     "data": {
      "text/plain": [
       "<AxesSubplot:>"
      ]
     },
     "execution_count": 35,
     "metadata": {},
     "output_type": "execute_result"
    },
    {
     "data": {
      "image/png": "[encoded data removed]",
      "text/plain": [
       "<Figure size 432x288 with 2 Axes>"
      ]
     },
     "metadata": {
      "needs_background": "light"
     },
     "output_type": "display_data"
    }
   ],
   "source": [
    "sns.heatmap(orders.corr(), cmap=\"Blues\", annot=True)"
   ]
  },
  {
   "cell_type": "code",
   "execution_count": 36,
   "id": "09614311",
   "metadata": {},
   "outputs": [
    {
     "data": {
      "text/html": [
       "<div>\n",
       "<style scoped>\n",
       "    .dataframe tbody tr th:only-of-type {\n",
       "        vertical-align: middle;\n",
       "    }\n",
       "\n",
       "    .dataframe tbody tr th {\n",
       "        vertical-align: top;\n",
       "    }\n",
       "\n",
       "    .dataframe thead th {\n",
       "        text-align: right;\n",
       "    }\n",
       "</style>\n",
       "<table border=\"1\" class=\"dataframe\">\n",
       "  <thead>\n",
       "    <tr style=\"text-align: right;\">\n",
       "      <th></th>\n",
       "      <th>order_id</th>\n",
       "      <th>client_id</th>\n",
       "      <th>product_id</th>\n",
       "      <th>datetime</th>\n",
       "      <th>units</th>\n",
       "      <th>price</th>\n",
       "      <th>payment_method</th>\n",
       "      <th>installments</th>\n",
       "      <th>delivery_days</th>\n",
       "      <th>delivery_state</th>\n",
       "      <th>device</th>\n",
       "      <th>source</th>\n",
       "      <th>has_installments</th>\n",
       "    </tr>\n",
       "  </thead>\n",
       "  <tbody>\n",
       "    <tr>\n",
       "      <th>0</th>\n",
       "      <td>ox008433</td>\n",
       "      <td>cx05072</td>\n",
       "      <td>px04611</td>\n",
       "      <td>2019-10-07 15:20:00</td>\n",
       "      <td>1.0</td>\n",
       "      <td>49.9</td>\n",
       "      <td>pm05</td>\n",
       "      <td>0.0</td>\n",
       "      <td>NaN</td>\n",
       "      <td>st07</td>\n",
       "      <td>dv9</td>\n",
       "      <td>sc08</td>\n",
       "      <td>1</td>\n",
       "    </tr>\n",
       "    <tr>\n",
       "      <th>1</th>\n",
       "      <td>ox070389</td>\n",
       "      <td>cx05072</td>\n",
       "      <td>px12305</td>\n",
       "      <td>2019-10-11 17:42:00</td>\n",
       "      <td>1.0</td>\n",
       "      <td>69.9</td>\n",
       "      <td>pm05</td>\n",
       "      <td>0.0</td>\n",
       "      <td>NaN</td>\n",
       "      <td>st07</td>\n",
       "      <td>dv9</td>\n",
       "      <td>sc08</td>\n",
       "      <td>1</td>\n",
       "    </tr>\n",
       "    <tr>\n",
       "      <th>2</th>\n",
       "      <td>ox061137</td>\n",
       "      <td>cx06840</td>\n",
       "      <td>px07033</td>\n",
       "      <td>2019-01-19 13:09:00</td>\n",
       "      <td>1.0</td>\n",
       "      <td>35.9</td>\n",
       "      <td>pm05</td>\n",
       "      <td>0.0</td>\n",
       "      <td>NaN</td>\n",
       "      <td>st07</td>\n",
       "      <td>dv9</td>\n",
       "      <td>sc08</td>\n",
       "      <td>1</td>\n",
       "    </tr>\n",
       "    <tr>\n",
       "      <th>3</th>\n",
       "      <td>ox061137</td>\n",
       "      <td>cx06840</td>\n",
       "      <td>px05992</td>\n",
       "      <td>2019-01-19 13:09:00</td>\n",
       "      <td>3.0</td>\n",
       "      <td>35.9</td>\n",
       "      <td>pm05</td>\n",
       "      <td>0.0</td>\n",
       "      <td>NaN</td>\n",
       "      <td>st07</td>\n",
       "      <td>dv9</td>\n",
       "      <td>sc08</td>\n",
       "      <td>1</td>\n",
       "    </tr>\n",
       "    <tr>\n",
       "      <th>4</th>\n",
       "      <td>ox038612</td>\n",
       "      <td>cx06840</td>\n",
       "      <td>px10040</td>\n",
       "      <td>2019-04-18 14:36:00</td>\n",
       "      <td>1.0</td>\n",
       "      <td>39.0</td>\n",
       "      <td>pm05</td>\n",
       "      <td>0.0</td>\n",
       "      <td>NaN</td>\n",
       "      <td>st07</td>\n",
       "      <td>dv9</td>\n",
       "      <td>sc08</td>\n",
       "      <td>1</td>\n",
       "    </tr>\n",
       "  </tbody>\n",
       "</table>\n",
       "</div>"
      ],
      "text/plain": [
       "   order_id client_id product_id             datetime  units  price  \\\n",
       "0  ox008433   cx05072    px04611  2019-10-07 15:20:00    1.0   49.9   \n",
       "1  ox070389   cx05072    px12305  2019-10-11 17:42:00    1.0   69.9   \n",
       "2  ox061137   cx06840    px07033  2019-01-19 13:09:00    1.0   35.9   \n",
       "3  ox061137   cx06840    px05992  2019-01-19 13:09:00    3.0   35.9   \n",
       "4  ox038612   cx06840    px10040  2019-04-18 14:36:00    1.0   39.0   \n",
       "\n",
       "  payment_method  installments  delivery_days delivery_state device source  \\\n",
       "0           pm05           0.0            NaN           st07    dv9   sc08   \n",
       "1           pm05           0.0            NaN           st07    dv9   sc08   \n",
       "2           pm05           0.0            NaN           st07    dv9   sc08   \n",
       "3           pm05           0.0            NaN           st07    dv9   sc08   \n",
       "4           pm05           0.0            NaN           st07    dv9   sc08   \n",
       "\n",
       "   has_installments  \n",
       "0                 1  \n",
       "1                 1  \n",
       "2                 1  \n",
       "3                 1  \n",
       "4                 1  "
      ]
     },
     "execution_count": 36,
     "metadata": {},
     "output_type": "execute_result"
    }
   ],
   "source": [
    "orders[orders[\"delivery_days\"].isna()].head()"
   ]
  },
  {
   "cell_type": "code",
   "execution_count": 37,
   "id": "57a3b5f0",
   "metadata": {},
   "outputs": [
    {
     "data": {
      "text/html": [
       "<div>\n",
       "<style scoped>\n",
       "    .dataframe tbody tr th:only-of-type {\n",
       "        vertical-align: middle;\n",
       "    }\n",
       "\n",
       "    .dataframe tbody tr th {\n",
       "        vertical-align: top;\n",
       "    }\n",
       "\n",
       "    .dataframe thead th {\n",
       "        text-align: right;\n",
       "    }\n",
       "</style>\n",
       "<table border=\"1\" class=\"dataframe\">\n",
       "  <thead>\n",
       "    <tr style=\"text-align: right;\">\n",
       "      <th></th>\n",
       "      <th>order_id</th>\n",
       "      <th>client_id</th>\n",
       "      <th>product_id</th>\n",
       "      <th>datetime</th>\n",
       "      <th>units</th>\n",
       "      <th>price</th>\n",
       "      <th>payment_method</th>\n",
       "      <th>installments</th>\n",
       "      <th>delivery_days</th>\n",
       "      <th>delivery_state</th>\n",
       "      <th>device</th>\n",
       "      <th>source</th>\n",
       "      <th>has_installments</th>\n",
       "      <th>has_delivery_days</th>\n",
       "    </tr>\n",
       "  </thead>\n",
       "  <tbody>\n",
       "    <tr>\n",
       "      <th>0</th>\n",
       "      <td>ox008433</td>\n",
       "      <td>cx05072</td>\n",
       "      <td>px04611</td>\n",
       "      <td>2019-10-07 15:20:00</td>\n",
       "      <td>1.0</td>\n",
       "      <td>49.9</td>\n",
       "      <td>pm05</td>\n",
       "      <td>0.0</td>\n",
       "      <td>NaN</td>\n",
       "      <td>st07</td>\n",
       "      <td>dv9</td>\n",
       "      <td>sc08</td>\n",
       "      <td>1</td>\n",
       "      <td>0</td>\n",
       "    </tr>\n",
       "    <tr>\n",
       "      <th>1</th>\n",
       "      <td>ox070389</td>\n",
       "      <td>cx05072</td>\n",
       "      <td>px12305</td>\n",
       "      <td>2019-10-11 17:42:00</td>\n",
       "      <td>1.0</td>\n",
       "      <td>69.9</td>\n",
       "      <td>pm05</td>\n",
       "      <td>0.0</td>\n",
       "      <td>NaN</td>\n",
       "      <td>st07</td>\n",
       "      <td>dv9</td>\n",
       "      <td>sc08</td>\n",
       "      <td>1</td>\n",
       "      <td>0</td>\n",
       "    </tr>\n",
       "    <tr>\n",
       "      <th>2</th>\n",
       "      <td>ox061137</td>\n",
       "      <td>cx06840</td>\n",
       "      <td>px07033</td>\n",
       "      <td>2019-01-19 13:09:00</td>\n",
       "      <td>1.0</td>\n",
       "      <td>35.9</td>\n",
       "      <td>pm05</td>\n",
       "      <td>0.0</td>\n",
       "      <td>NaN</td>\n",
       "      <td>st07</td>\n",
       "      <td>dv9</td>\n",
       "      <td>sc08</td>\n",
       "      <td>1</td>\n",
       "      <td>0</td>\n",
       "    </tr>\n",
       "    <tr>\n",
       "      <th>3</th>\n",
       "      <td>ox061137</td>\n",
       "      <td>cx06840</td>\n",
       "      <td>px05992</td>\n",
       "      <td>2019-01-19 13:09:00</td>\n",
       "      <td>3.0</td>\n",
       "      <td>35.9</td>\n",
       "      <td>pm05</td>\n",
       "      <td>0.0</td>\n",
       "      <td>NaN</td>\n",
       "      <td>st07</td>\n",
       "      <td>dv9</td>\n",
       "      <td>sc08</td>\n",
       "      <td>1</td>\n",
       "      <td>0</td>\n",
       "    </tr>\n",
       "    <tr>\n",
       "      <th>4</th>\n",
       "      <td>ox038612</td>\n",
       "      <td>cx06840</td>\n",
       "      <td>px10040</td>\n",
       "      <td>2019-04-18 14:36:00</td>\n",
       "      <td>1.0</td>\n",
       "      <td>39.0</td>\n",
       "      <td>pm05</td>\n",
       "      <td>0.0</td>\n",
       "      <td>NaN</td>\n",
       "      <td>st07</td>\n",
       "      <td>dv9</td>\n",
       "      <td>sc08</td>\n",
       "      <td>1</td>\n",
       "      <td>0</td>\n",
       "    </tr>\n",
       "  </tbody>\n",
       "</table>\n",
       "</div>"
      ],
      "text/plain": [
       "   order_id client_id product_id             datetime  units  price  \\\n",
       "0  ox008433   cx05072    px04611  2019-10-07 15:20:00    1.0   49.9   \n",
       "1  ox070389   cx05072    px12305  2019-10-11 17:42:00    1.0   69.9   \n",
       "2  ox061137   cx06840    px07033  2019-01-19 13:09:00    1.0   35.9   \n",
       "3  ox061137   cx06840    px05992  2019-01-19 13:09:00    3.0   35.9   \n",
       "4  ox038612   cx06840    px10040  2019-04-18 14:36:00    1.0   39.0   \n",
       "\n",
       "  payment_method  installments  delivery_days delivery_state device source  \\\n",
       "0           pm05           0.0            NaN           st07    dv9   sc08   \n",
       "1           pm05           0.0            NaN           st07    dv9   sc08   \n",
       "2           pm05           0.0            NaN           st07    dv9   sc08   \n",
       "3           pm05           0.0            NaN           st07    dv9   sc08   \n",
       "4           pm05           0.0            NaN           st07    dv9   sc08   \n",
       "\n",
       "   has_installments  has_delivery_days  \n",
       "0                 1                  0  \n",
       "1                 1                  0  \n",
       "2                 1                  0  \n",
       "3                 1                  0  \n",
       "4                 1                  0  "
      ]
     },
     "execution_count": 37,
     "metadata": {},
     "output_type": "execute_result"
    }
   ],
   "source": [
    "orders['has_delivery_days'] = np.where(orders[\"delivery_days\"].isna() == False, 1, 0)\n",
    "orders.head()"
   ]
  },
  {
   "cell_type": "code",
   "execution_count": 38,
   "id": "5424ef1c",
   "metadata": {},
   "outputs": [
    {
     "data": {
      "text/plain": [
       "<AxesSubplot:>"
      ]
     },
     "execution_count": 38,
     "metadata": {},
     "output_type": "execute_result"
    },
    {
     "data": {
      "image/png": "[encoded data removed]",
      "text/plain": [
       "<Figure size 432x288 with 2 Axes>"
      ]
     },
     "metadata": {
      "needs_background": "light"
     },
     "output_type": "display_data"
    }
   ],
   "source": [
    "sns.heatmap(orders.corr(), cmap=\"Blues\", annot=True)"
   ]
  },
  {
   "cell_type": "code",
   "execution_count": 39,
   "id": "cfcb8c86",
   "metadata": {},
   "outputs": [
    {
     "data": {
      "text/plain": [
       "<AxesSubplot:xlabel='units', ylabel='has_delivery_days'>"
      ]
     },
     "execution_count": 39,
     "metadata": {},
     "output_type": "execute_result"
    },
    {
     "data": {
      "image/png": "[encoded data removed]",
      "text/plain": [
       "<Figure size 432x288 with 1 Axes>"
      ]
     },
     "metadata": {
      "needs_background": "light"
     },
     "output_type": "display_data"
    }
   ],
   "source": [
    "sns.regplot(data=orders,\n",
    "            x=\"units\",\n",
    "            y=\"has_delivery_days\",\n",
    "            logistic=True)"
   ]
  },
  {
   "cell_type": "code",
   "execution_count": 40,
   "id": "25af4325",
   "metadata": {},
   "outputs": [
    {
     "data": {
      "text/plain": [
       "<AxesSubplot:xlabel='price', ylabel='has_delivery_days'>"
      ]
     },
     "execution_count": 40,
     "metadata": {},
     "output_type": "execute_result"
    },
    {
     "data": {
      "image/png": "[encoded data removed]",
      "text/plain": [
       "<Figure size 432x288 with 1 Axes>"
      ]
     },
     "metadata": {
      "needs_background": "light"
     },
     "output_type": "display_data"
    }
   ],
   "source": [
    "sns.regplot(data=orders,\n",
    "            x=\"price\",\n",
    "            y=\"has_delivery_days\",\n",
    "            logistic=True)"
   ]
  },
  {
   "cell_type": "code",
   "execution_count": null,
   "id": "6bba996b",
   "metadata": {},
   "outputs": [],
   "source": []
  },
  {
   "cell_type": "code",
   "execution_count": 42,
   "id": "71339227",
   "metadata": {},
   "outputs": [
    {
     "data": {
      "text/plain": [
       "<AxesSubplot:xlabel='installments', ylabel='has_delivery_days'>"
      ]
     },
     "execution_count": 42,
     "metadata": {},
     "output_type": "execute_result"
    },
    {
     "data": {
      "image/png": "[encoded data removed]",
      "text/plain": [
       "<Figure size 432x288 with 1 Axes>"
      ]
     },
     "metadata": {
      "needs_background": "light"
     },
     "output_type": "display_data"
    }
   ],
   "source": [
    "sns.regplot(data=orders,\n",
    "            x=\"installments\",\n",
    "            y=\"has_delivery_days\",\n",
    "            logistic=True)"
   ]
  },
  {
   "cell_type": "markdown",
   "id": "00ab3375",
   "metadata": {},
   "source": [
    "# Merging data"
   ]
  },
  {
   "cell_type": "code",
   "execution_count": 45,
   "id": "0fce5601",
   "metadata": {},
   "outputs": [],
   "source": [
    "customer_orders = orders.merge(client_ch,how='right', on=\"client_id\")"
   ]
  },
  {
   "cell_type": "code",
   "execution_count": 46,
   "id": "39927bde",
   "metadata": {},
   "outputs": [
    {
     "data": {
      "text/plain": [
       "<AxesSubplot:xlabel='price', ylabel='has_delivery_days'>"
      ]
     },
     "execution_count": 46,
     "metadata": {},
     "output_type": "execute_result"
    },
    {
     "data": {
      "image/png": "[encoded data removed]",
      "text/plain": [
       "<Figure size 432x288 with 1 Axes>"
      ]
     },
     "metadata": {
      "needs_background": "light"
     },
     "output_type": "display_data"
    }
   ],
   "source": [
    "sns.regplot(data=customer_orders,\n",
    "            x=\"price\",\n",
    "            y=\"has_delivery_days\",\n",
    "            logistic=True)"
   ]
  },
  {
   "cell_type": "code",
   "execution_count": 47,
   "id": "17f79572",
   "metadata": {},
   "outputs": [
    {
     "data": {
      "text/html": [
       "<div>\n",
       "<style scoped>\n",
       "    .dataframe tbody tr th:only-of-type {\n",
       "        vertical-align: middle;\n",
       "    }\n",
       "\n",
       "    .dataframe tbody tr th {\n",
       "        vertical-align: top;\n",
       "    }\n",
       "\n",
       "    .dataframe thead th {\n",
       "        text-align: right;\n",
       "    }\n",
       "</style>\n",
       "<table border=\"1\" class=\"dataframe\">\n",
       "  <thead>\n",
       "    <tr style=\"text-align: right;\">\n",
       "      <th></th>\n",
       "      <th>order_id</th>\n",
       "      <th>client_id</th>\n",
       "      <th>product_id</th>\n",
       "      <th>datetime</th>\n",
       "      <th>units</th>\n",
       "      <th>price</th>\n",
       "      <th>payment_method</th>\n",
       "      <th>installments</th>\n",
       "      <th>delivery_days</th>\n",
       "      <th>delivery_state</th>\n",
       "      <th>device</th>\n",
       "      <th>source</th>\n",
       "      <th>has_installments</th>\n",
       "      <th>has_delivery_days</th>\n",
       "      <th>birthdate</th>\n",
       "      <th>state</th>\n",
       "      <th>gender</th>\n",
       "    </tr>\n",
       "  </thead>\n",
       "  <tbody>\n",
       "    <tr>\n",
       "      <th>0</th>\n",
       "      <td>ox036927</td>\n",
       "      <td>cx12525</td>\n",
       "      <td>px09033</td>\n",
       "      <td>2019-01-09 17:49:00</td>\n",
       "      <td>1.0</td>\n",
       "      <td>103.98</td>\n",
       "      <td>pm05</td>\n",
       "      <td>0.0</td>\n",
       "      <td>NaN</td>\n",
       "      <td>st07</td>\n",
       "      <td>dv9</td>\n",
       "      <td>sc08</td>\n",
       "      <td>1</td>\n",
       "      <td>0</td>\n",
       "      <td>1932-04-19</td>\n",
       "      <td>st15</td>\n",
       "      <td>cg1</td>\n",
       "    </tr>\n",
       "    <tr>\n",
       "      <th>1</th>\n",
       "      <td>ox036927</td>\n",
       "      <td>cx12525</td>\n",
       "      <td>px10504</td>\n",
       "      <td>2019-01-09 17:49:00</td>\n",
       "      <td>1.0</td>\n",
       "      <td>126.74</td>\n",
       "      <td>pm05</td>\n",
       "      <td>0.0</td>\n",
       "      <td>NaN</td>\n",
       "      <td>st07</td>\n",
       "      <td>dv9</td>\n",
       "      <td>sc08</td>\n",
       "      <td>1</td>\n",
       "      <td>0</td>\n",
       "      <td>1932-04-19</td>\n",
       "      <td>st15</td>\n",
       "      <td>cg1</td>\n",
       "    </tr>\n",
       "    <tr>\n",
       "      <th>2</th>\n",
       "      <td>ox036927</td>\n",
       "      <td>cx12525</td>\n",
       "      <td>px03793</td>\n",
       "      <td>2019-01-09 17:49:00</td>\n",
       "      <td>1.0</td>\n",
       "      <td>50.97</td>\n",
       "      <td>pm05</td>\n",
       "      <td>0.0</td>\n",
       "      <td>NaN</td>\n",
       "      <td>st07</td>\n",
       "      <td>dv9</td>\n",
       "      <td>sc08</td>\n",
       "      <td>1</td>\n",
       "      <td>0</td>\n",
       "      <td>1932-04-19</td>\n",
       "      <td>st15</td>\n",
       "      <td>cg1</td>\n",
       "    </tr>\n",
       "    <tr>\n",
       "      <th>3</th>\n",
       "      <td>ox036927</td>\n",
       "      <td>cx12525</td>\n",
       "      <td>px04284</td>\n",
       "      <td>2019-01-09 17:49:00</td>\n",
       "      <td>1.0</td>\n",
       "      <td>86.50</td>\n",
       "      <td>pm05</td>\n",
       "      <td>0.0</td>\n",
       "      <td>NaN</td>\n",
       "      <td>st07</td>\n",
       "      <td>dv9</td>\n",
       "      <td>sc08</td>\n",
       "      <td>1</td>\n",
       "      <td>0</td>\n",
       "      <td>1932-04-19</td>\n",
       "      <td>st15</td>\n",
       "      <td>cg1</td>\n",
       "    </tr>\n",
       "    <tr>\n",
       "      <th>4</th>\n",
       "      <td>ox109415</td>\n",
       "      <td>cx12525</td>\n",
       "      <td>px04031</td>\n",
       "      <td>2019-11-13 14:56:00</td>\n",
       "      <td>1.0</td>\n",
       "      <td>9.90</td>\n",
       "      <td>pm05</td>\n",
       "      <td>0.0</td>\n",
       "      <td>NaN</td>\n",
       "      <td>st07</td>\n",
       "      <td>dv9</td>\n",
       "      <td>sc08</td>\n",
       "      <td>1</td>\n",
       "      <td>0</td>\n",
       "      <td>1932-04-19</td>\n",
       "      <td>st15</td>\n",
       "      <td>cg1</td>\n",
       "    </tr>\n",
       "  </tbody>\n",
       "</table>\n",
       "</div>"
      ],
      "text/plain": [
       "   order_id client_id product_id             datetime  units   price  \\\n",
       "0  ox036927   cx12525    px09033  2019-01-09 17:49:00    1.0  103.98   \n",
       "1  ox036927   cx12525    px10504  2019-01-09 17:49:00    1.0  126.74   \n",
       "2  ox036927   cx12525    px03793  2019-01-09 17:49:00    1.0   50.97   \n",
       "3  ox036927   cx12525    px04284  2019-01-09 17:49:00    1.0   86.50   \n",
       "4  ox109415   cx12525    px04031  2019-11-13 14:56:00    1.0    9.90   \n",
       "\n",
       "  payment_method  installments  delivery_days delivery_state device source  \\\n",
       "0           pm05           0.0            NaN           st07    dv9   sc08   \n",
       "1           pm05           0.0            NaN           st07    dv9   sc08   \n",
       "2           pm05           0.0            NaN           st07    dv9   sc08   \n",
       "3           pm05           0.0            NaN           st07    dv9   sc08   \n",
       "4           pm05           0.0            NaN           st07    dv9   sc08   \n",
       "\n",
       "   has_installments  has_delivery_days   birthdate state gender  \n",
       "0                 1                  0  1932-04-19  st15    cg1  \n",
       "1                 1                  0  1932-04-19  st15    cg1  \n",
       "2                 1                  0  1932-04-19  st15    cg1  \n",
       "3                 1                  0  1932-04-19  st15    cg1  \n",
       "4                 1                  0  1932-04-19  st15    cg1  "
      ]
     },
     "execution_count": 47,
     "metadata": {},
     "output_type": "execute_result"
    }
   ],
   "source": [
    "customer_orders.head()"
   ]
  },
  {
   "cell_type": "code",
   "execution_count": 48,
   "id": "653908bd",
   "metadata": {},
   "outputs": [],
   "source": [
    "customer_orders.to_csv(\"../data/processed/customer_orders.csv\")"
   ]
  },
  {
   "cell_type": "code",
   "execution_count": null,
   "id": "5147055f",
   "metadata": {},
   "outputs": [],
   "source": []
  },
  {
   "cell_type": "code",
   "execution_count": 50,
   "id": "42942d25",
   "metadata": {},
   "outputs": [
    {
     "data": {
      "text/html": [
       "<div>\n",
       "<style scoped>\n",
       "    .dataframe tbody tr th:only-of-type {\n",
       "        vertical-align: middle;\n",
       "    }\n",
       "\n",
       "    .dataframe tbody tr th {\n",
       "        vertical-align: top;\n",
       "    }\n",
       "\n",
       "    .dataframe thead th {\n",
       "        text-align: right;\n",
       "    }\n",
       "</style>\n",
       "<table border=\"1\" class=\"dataframe\">\n",
       "  <thead>\n",
       "    <tr style=\"text-align: right;\">\n",
       "      <th></th>\n",
       "      <th>order_id</th>\n",
       "      <th>client_id</th>\n",
       "      <th>product_id</th>\n",
       "      <th>datetime</th>\n",
       "      <th>units</th>\n",
       "      <th>price</th>\n",
       "      <th>payment_method</th>\n",
       "      <th>installments</th>\n",
       "      <th>delivery_days</th>\n",
       "      <th>delivery_state</th>\n",
       "      <th>device</th>\n",
       "      <th>source</th>\n",
       "      <th>has_installments</th>\n",
       "      <th>has_delivery_days</th>\n",
       "      <th>birthdate</th>\n",
       "      <th>state</th>\n",
       "      <th>gender</th>\n",
       "    </tr>\n",
       "  </thead>\n",
       "  <tbody>\n",
       "    <tr>\n",
       "      <th>9</th>\n",
       "      <td>ox013255</td>\n",
       "      <td>cx00471</td>\n",
       "      <td>px10138</td>\n",
       "      <td>2019-02-09 13:48:00</td>\n",
       "      <td>0.89221</td>\n",
       "      <td>-408.88</td>\n",
       "      <td>pm05</td>\n",
       "      <td>0.0</td>\n",
       "      <td>NaN</td>\n",
       "      <td>st07</td>\n",
       "      <td>dv9</td>\n",
       "      <td>sc08</td>\n",
       "      <td>1</td>\n",
       "      <td>0</td>\n",
       "      <td>1964-08-30</td>\n",
       "      <td>st15</td>\n",
       "      <td>cg2</td>\n",
       "    </tr>\n",
       "    <tr>\n",
       "      <th>10</th>\n",
       "      <td>ox013255</td>\n",
       "      <td>cx00471</td>\n",
       "      <td>px10138</td>\n",
       "      <td>2019-02-09 13:48:00</td>\n",
       "      <td>0.10779</td>\n",
       "      <td>-408.88</td>\n",
       "      <td>pm05</td>\n",
       "      <td>0.0</td>\n",
       "      <td>NaN</td>\n",
       "      <td>st07</td>\n",
       "      <td>dv9</td>\n",
       "      <td>sc08</td>\n",
       "      <td>1</td>\n",
       "      <td>0</td>\n",
       "      <td>1964-08-30</td>\n",
       "      <td>st15</td>\n",
       "      <td>cg2</td>\n",
       "    </tr>\n",
       "    <tr>\n",
       "      <th>53</th>\n",
       "      <td>ox127510</td>\n",
       "      <td>cx38469</td>\n",
       "      <td>px12369</td>\n",
       "      <td>2019-05-28 17:27:00</td>\n",
       "      <td>0.80064</td>\n",
       "      <td>-945.00</td>\n",
       "      <td>pm05</td>\n",
       "      <td>0.0</td>\n",
       "      <td>NaN</td>\n",
       "      <td>st07</td>\n",
       "      <td>dv9</td>\n",
       "      <td>sc08</td>\n",
       "      <td>1</td>\n",
       "      <td>0</td>\n",
       "      <td>1976-09-09</td>\n",
       "      <td>st25</td>\n",
       "      <td>cg1</td>\n",
       "    </tr>\n",
       "    <tr>\n",
       "      <th>54</th>\n",
       "      <td>ox127510</td>\n",
       "      <td>cx38469</td>\n",
       "      <td>px12369</td>\n",
       "      <td>2019-05-28 17:27:00</td>\n",
       "      <td>0.19936</td>\n",
       "      <td>-945.00</td>\n",
       "      <td>pm05</td>\n",
       "      <td>0.0</td>\n",
       "      <td>NaN</td>\n",
       "      <td>st07</td>\n",
       "      <td>dv9</td>\n",
       "      <td>sc08</td>\n",
       "      <td>1</td>\n",
       "      <td>0</td>\n",
       "      <td>1976-09-09</td>\n",
       "      <td>st25</td>\n",
       "      <td>cg1</td>\n",
       "    </tr>\n",
       "    <tr>\n",
       "      <th>56</th>\n",
       "      <td>ox023178</td>\n",
       "      <td>cx38469</td>\n",
       "      <td>px12246</td>\n",
       "      <td>2019-06-26 20:38:00</td>\n",
       "      <td>0.78433</td>\n",
       "      <td>-3199.00</td>\n",
       "      <td>pm05</td>\n",
       "      <td>0.0</td>\n",
       "      <td>NaN</td>\n",
       "      <td>st25</td>\n",
       "      <td>dv3</td>\n",
       "      <td>sc12</td>\n",
       "      <td>1</td>\n",
       "      <td>0</td>\n",
       "      <td>1976-09-09</td>\n",
       "      <td>st25</td>\n",
       "      <td>cg1</td>\n",
       "    </tr>\n",
       "  </tbody>\n",
       "</table>\n",
       "</div>"
      ],
      "text/plain": [
       "    order_id client_id product_id             datetime    units    price  \\\n",
       "9   ox013255   cx00471    px10138  2019-02-09 13:48:00  0.89221  -408.88   \n",
       "10  ox013255   cx00471    px10138  2019-02-09 13:48:00  0.10779  -408.88   \n",
       "53  ox127510   cx38469    px12369  2019-05-28 17:27:00  0.80064  -945.00   \n",
       "54  ox127510   cx38469    px12369  2019-05-28 17:27:00  0.19936  -945.00   \n",
       "56  ox023178   cx38469    px12246  2019-06-26 20:38:00  0.78433 -3199.00   \n",
       "\n",
       "   payment_method  installments  delivery_days delivery_state device source  \\\n",
       "9            pm05           0.0            NaN           st07    dv9   sc08   \n",
       "10           pm05           0.0            NaN           st07    dv9   sc08   \n",
       "53           pm05           0.0            NaN           st07    dv9   sc08   \n",
       "54           pm05           0.0            NaN           st07    dv9   sc08   \n",
       "56           pm05           0.0            NaN           st25    dv3   sc12   \n",
       "\n",
       "    has_installments  has_delivery_days   birthdate state gender  \n",
       "9                  1                  0  1964-08-30  st15    cg2  \n",
       "10                 1                  0  1964-08-30  st15    cg2  \n",
       "53                 1                  0  1976-09-09  st25    cg1  \n",
       "54                 1                  0  1976-09-09  st25    cg1  \n",
       "56                 1                  0  1976-09-09  st25    cg1  "
      ]
     },
     "execution_count": 50,
     "metadata": {},
     "output_type": "execute_result"
    }
   ],
   "source": [
    "customer_orders[customer_orders[\"price\"] < 0].head()"
   ]
  },
  {
   "cell_type": "code",
   "execution_count": 51,
   "id": "a5ff14ca",
   "metadata": {},
   "outputs": [
    {
     "data": {
      "text/html": [
       "<div>\n",
       "<style scoped>\n",
       "    .dataframe tbody tr th:only-of-type {\n",
       "        vertical-align: middle;\n",
       "    }\n",
       "\n",
       "    .dataframe tbody tr th {\n",
       "        vertical-align: top;\n",
       "    }\n",
       "\n",
       "    .dataframe thead th {\n",
       "        text-align: right;\n",
       "    }\n",
       "</style>\n",
       "<table border=\"1\" class=\"dataframe\">\n",
       "  <thead>\n",
       "    <tr style=\"text-align: right;\">\n",
       "      <th></th>\n",
       "      <th>order_id</th>\n",
       "      <th>client_id</th>\n",
       "      <th>product_id</th>\n",
       "      <th>datetime</th>\n",
       "      <th>units</th>\n",
       "      <th>price</th>\n",
       "      <th>payment_method</th>\n",
       "      <th>installments</th>\n",
       "      <th>delivery_days</th>\n",
       "      <th>delivery_state</th>\n",
       "      <th>device</th>\n",
       "      <th>source</th>\n",
       "      <th>has_installments</th>\n",
       "      <th>has_delivery_days</th>\n",
       "      <th>birthdate</th>\n",
       "      <th>state</th>\n",
       "      <th>gender</th>\n",
       "      <th>has_discount</th>\n",
       "    </tr>\n",
       "  </thead>\n",
       "  <tbody>\n",
       "    <tr>\n",
       "      <th>0</th>\n",
       "      <td>ox036927</td>\n",
       "      <td>cx12525</td>\n",
       "      <td>px09033</td>\n",
       "      <td>2019-01-09 17:49:00</td>\n",
       "      <td>1.0</td>\n",
       "      <td>103.98</td>\n",
       "      <td>pm05</td>\n",
       "      <td>0.0</td>\n",
       "      <td>NaN</td>\n",
       "      <td>st07</td>\n",
       "      <td>dv9</td>\n",
       "      <td>sc08</td>\n",
       "      <td>1</td>\n",
       "      <td>0</td>\n",
       "      <td>1932-04-19</td>\n",
       "      <td>st15</td>\n",
       "      <td>cg1</td>\n",
       "      <td>0</td>\n",
       "    </tr>\n",
       "    <tr>\n",
       "      <th>1</th>\n",
       "      <td>ox036927</td>\n",
       "      <td>cx12525</td>\n",
       "      <td>px10504</td>\n",
       "      <td>2019-01-09 17:49:00</td>\n",
       "      <td>1.0</td>\n",
       "      <td>126.74</td>\n",
       "      <td>pm05</td>\n",
       "      <td>0.0</td>\n",
       "      <td>NaN</td>\n",
       "      <td>st07</td>\n",
       "      <td>dv9</td>\n",
       "      <td>sc08</td>\n",
       "      <td>1</td>\n",
       "      <td>0</td>\n",
       "      <td>1932-04-19</td>\n",
       "      <td>st15</td>\n",
       "      <td>cg1</td>\n",
       "      <td>0</td>\n",
       "    </tr>\n",
       "    <tr>\n",
       "      <th>2</th>\n",
       "      <td>ox036927</td>\n",
       "      <td>cx12525</td>\n",
       "      <td>px03793</td>\n",
       "      <td>2019-01-09 17:49:00</td>\n",
       "      <td>1.0</td>\n",
       "      <td>50.97</td>\n",
       "      <td>pm05</td>\n",
       "      <td>0.0</td>\n",
       "      <td>NaN</td>\n",
       "      <td>st07</td>\n",
       "      <td>dv9</td>\n",
       "      <td>sc08</td>\n",
       "      <td>1</td>\n",
       "      <td>0</td>\n",
       "      <td>1932-04-19</td>\n",
       "      <td>st15</td>\n",
       "      <td>cg1</td>\n",
       "      <td>0</td>\n",
       "    </tr>\n",
       "    <tr>\n",
       "      <th>3</th>\n",
       "      <td>ox036927</td>\n",
       "      <td>cx12525</td>\n",
       "      <td>px04284</td>\n",
       "      <td>2019-01-09 17:49:00</td>\n",
       "      <td>1.0</td>\n",
       "      <td>86.50</td>\n",
       "      <td>pm05</td>\n",
       "      <td>0.0</td>\n",
       "      <td>NaN</td>\n",
       "      <td>st07</td>\n",
       "      <td>dv9</td>\n",
       "      <td>sc08</td>\n",
       "      <td>1</td>\n",
       "      <td>0</td>\n",
       "      <td>1932-04-19</td>\n",
       "      <td>st15</td>\n",
       "      <td>cg1</td>\n",
       "      <td>0</td>\n",
       "    </tr>\n",
       "    <tr>\n",
       "      <th>4</th>\n",
       "      <td>ox109415</td>\n",
       "      <td>cx12525</td>\n",
       "      <td>px04031</td>\n",
       "      <td>2019-11-13 14:56:00</td>\n",
       "      <td>1.0</td>\n",
       "      <td>9.90</td>\n",
       "      <td>pm05</td>\n",
       "      <td>0.0</td>\n",
       "      <td>NaN</td>\n",
       "      <td>st07</td>\n",
       "      <td>dv9</td>\n",
       "      <td>sc08</td>\n",
       "      <td>1</td>\n",
       "      <td>0</td>\n",
       "      <td>1932-04-19</td>\n",
       "      <td>st15</td>\n",
       "      <td>cg1</td>\n",
       "      <td>0</td>\n",
       "    </tr>\n",
       "  </tbody>\n",
       "</table>\n",
       "</div>"
      ],
      "text/plain": [
       "   order_id client_id product_id             datetime  units   price  \\\n",
       "0  ox036927   cx12525    px09033  2019-01-09 17:49:00    1.0  103.98   \n",
       "1  ox036927   cx12525    px10504  2019-01-09 17:49:00    1.0  126.74   \n",
       "2  ox036927   cx12525    px03793  2019-01-09 17:49:00    1.0   50.97   \n",
       "3  ox036927   cx12525    px04284  2019-01-09 17:49:00    1.0   86.50   \n",
       "4  ox109415   cx12525    px04031  2019-11-13 14:56:00    1.0    9.90   \n",
       "\n",
       "  payment_method  installments  delivery_days delivery_state device source  \\\n",
       "0           pm05           0.0            NaN           st07    dv9   sc08   \n",
       "1           pm05           0.0            NaN           st07    dv9   sc08   \n",
       "2           pm05           0.0            NaN           st07    dv9   sc08   \n",
       "3           pm05           0.0            NaN           st07    dv9   sc08   \n",
       "4           pm05           0.0            NaN           st07    dv9   sc08   \n",
       "\n",
       "   has_installments  has_delivery_days   birthdate state gender  has_discount  \n",
       "0                 1                  0  1932-04-19  st15    cg1             0  \n",
       "1                 1                  0  1932-04-19  st15    cg1             0  \n",
       "2                 1                  0  1932-04-19  st15    cg1             0  \n",
       "3                 1                  0  1932-04-19  st15    cg1             0  \n",
       "4                 1                  0  1932-04-19  st15    cg1             0  "
      ]
     },
     "execution_count": 51,
     "metadata": {},
     "output_type": "execute_result"
    }
   ],
   "source": [
    "customer_orders['has_discount'] = np.where(customer_orders[\"price\"] < 0, 1, 0)\n",
    "customer_orders.head()"
   ]
  },
  {
   "cell_type": "code",
   "execution_count": null,
   "id": "b3dab42d",
   "metadata": {},
   "outputs": [],
   "source": []
  }
 ],
 "metadata": {
  "kernelspec": {
   "display_name": "Python 3",
   "language": "python",
   "name": "python3"
  },
  "language_info": {
   "codemirror_mode": {
    "name": "ipython",
    "version": 3
   },
   "file_extension": ".py",
   "mimetype": "text/x-python",
   "name": "python",
   "nbconvert_exporter": "python",
   "pygments_lexer": "ipython3",
   "version": "3.8.8"
  }
 },
 "nbformat": 4,
 "nbformat_minor": 5
}
